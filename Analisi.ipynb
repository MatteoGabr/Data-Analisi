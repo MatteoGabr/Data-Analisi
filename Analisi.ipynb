{
 "cells": [
  {
   "cell_type": "code",
   "execution_count": 3,
   "id": "85c52c6e",
   "metadata": {},
   "outputs": [
    {
     "name": "stdout",
     "output_type": "stream",
     "text": [
      "[1 2 3 4 5]\n",
      "[10 20 30 40 50]\n"
     ]
    }
   ],
   "source": [
    "import json as jsn\n",
    "import numpy as np\n",
    "\n",
    "# Nonostante nella versione italiana la cartella si chiami \"Il mio Drive\",\n",
    "# il path reale è \"My Drive\"\n",
    "\n",
    "data = jsn.load(open('C:/Users/matte/Downloads/test.json', 'r'))\n",
    "\n",
    "test_array_1 = np.array(data[\"test_array_1\"])\n",
    "test_array_2 = np.array(data[\"test_array_2\"])\n",
    "\n",
    "print(test_array_1)\n",
    "print(test_array_2)\n"
   ]
  }
 ],
 "metadata": {
  "kernelspec": {
   "display_name": "venv",
   "language": "python",
   "name": "python3"
  },
  "language_info": {
   "codemirror_mode": {
    "name": "ipython",
    "version": 3
   },
   "file_extension": ".py",
   "mimetype": "text/x-python",
   "name": "python",
   "nbconvert_exporter": "python",
   "pygments_lexer": "ipython3",
   "version": "3.11.9"
  }
 },
 "nbformat": 4,
 "nbformat_minor": 5
}
